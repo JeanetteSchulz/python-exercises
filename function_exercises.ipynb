{
 "cells": [
  {
   "cell_type": "code",
   "execution_count": 4,
   "id": "ab28b59a",
   "metadata": {},
   "outputs": [
    {
     "name": "stdout",
     "output_type": "stream",
     "text": [
      "False\n",
      "False\n",
      "True\n",
      "True\n"
     ]
    }
   ],
   "source": [
    "#1.Define a function named is_two. It should accept one input and return True if the passed input is either the number or the string 2, False otherwise.\n",
    "\n",
    "def is_two(num):\n",
    "    return num in ['2', 2]\n",
    "\n",
    "print( is_two(3) )\n",
    "print( is_two('5') )\n",
    "print( is_two(2) )\n",
    "print( is_two('2') )"
   ]
  },
  {
   "cell_type": "code",
   "execution_count": 6,
   "id": "88bc5797",
   "metadata": {},
   "outputs": [
    {
     "name": "stdout",
     "output_type": "stream",
     "text": [
      "True\n",
      "False\n",
      "True\n",
      "False\n"
     ]
    }
   ],
   "source": [
    "#2. Define a function named is_vowel. It should return True if the passed string is a vowel, False otherwise.\n",
    "\n",
    "def is_vowel(letter):\n",
    "    return letter.lower() in 'aeiou'\n",
    "\n",
    "print( is_vowel('i') )\n",
    "print( is_vowel('c') )\n",
    "print( is_vowel('A') )\n",
    "print( is_vowel('B') )"
   ]
  },
  {
   "cell_type": "code",
   "execution_count": 7,
   "id": "ed3d1aa3",
   "metadata": {},
   "outputs": [
    {
     "name": "stdout",
     "output_type": "stream",
     "text": [
      "False\n",
      "True\n",
      "False\n",
      "True\n"
     ]
    }
   ],
   "source": [
    "#3. Define a function named is_consonant. It should return True if the passed string is a consonant, False otherwise. Use your is_vowel function to accomplish this.\n",
    "\n",
    "def is_consonant(halloween):\n",
    "    return not is_vowel(halloween)\n",
    "    \n",
    "print( is_consonant('i') )\n",
    "print( is_consonant('c') )\n",
    "print( is_consonant('A') )\n",
    "print( is_consonant('B') )"
   ]
  },
  {
   "cell_type": "code",
   "execution_count": 10,
   "id": "64e17cb8",
   "metadata": {},
   "outputs": [
    {
     "name": "stdout",
     "output_type": "stream",
     "text": [
      "Yellow\n",
      "orange\n",
      "ivy\n",
      "Purple\n"
     ]
    }
   ],
   "source": [
    "#4. Define a function that accepts a string that is a word. The function should capitalize the first letter of the word if the word starts with a consonant.\n",
    "\n",
    "def capitalize_leading_consonant(word):\n",
    "    if is_consonant(word[0]):\n",
    "        return word.capitalize() \n",
    "    else:\n",
    "        return word\n",
    "\n",
    "print( capitalize_leading_consonant('yellow') )\n",
    "print( capitalize_leading_consonant('orange') )\n",
    "print( capitalize_leading_consonant('ivy') )\n",
    "print( capitalize_leading_consonant('purple') )\n"
   ]
  },
  {
   "cell_type": "code",
   "execution_count": 15,
   "id": "1cc36972",
   "metadata": {},
   "outputs": [
    {
     "name": "stdout",
     "output_type": "stream",
     "text": [
      "$ 1.00\n",
      "$ 1.60\n"
     ]
    }
   ],
   "source": [
    "#5. Define a function named calculate_tip. It should accept a tip percentage (a number between 0 and 1) and the bill total, and return the amount to tip.\n",
    "\n",
    "def calculate_tip(tip_percentage,bill_total):\n",
    "    return bill_total * tip_percentage\n",
    "\n",
    "print('$', \"{:.2f}\".format(calculate_tip(.5,2.00)))\n",
    "print('$', \"{:.2f}\".format(calculate_tip(.2,8.00)))"
   ]
  },
  {
   "cell_type": "code",
   "execution_count": 17,
   "id": "dc6c9e38",
   "metadata": {},
   "outputs": [
    {
     "name": "stdout",
     "output_type": "stream",
     "text": [
      "$ 5.00\n",
      "$ 6.40\n"
     ]
    }
   ],
   "source": [
    "#6. Define a function named apply_discount. It should accept a original price, and a discount percentage, and return the price after the discount is applied.\n",
    "\n",
    "def apply_discount(original_price,discount_percentage):\n",
    "    return original_price - (original_price * discount_percentage)\n",
    "\n",
    "\n",
    "print('$', \"{:.2f}\".format(apply_discount(10,.50)))\n",
    "print('$', \"{:.2f}\".format(apply_discount(8,.20))) "
   ]
  },
  {
   "cell_type": "code",
   "execution_count": 21,
   "id": "1fc3a1b9",
   "metadata": {},
   "outputs": [
    {
     "name": "stdout",
     "output_type": "stream",
     "text": [
      "1000\n",
      "1000000\n",
      "1000000000\n"
     ]
    }
   ],
   "source": [
    "#7. Define a function named handle_commas. It should accept a string that is a number that contains commas in it as input, and return a number as output.\n",
    "\n",
    "def handle_commas(string_num):\n",
    "    return int(string_num.replace(\",\",\"\"))\n",
    "\n",
    "print( handle_commas('1,000') )\n",
    "print( handle_commas('1,000,000') )\n",
    "print( handle_commas('1,000,000,000') )"
   ]
  },
  {
   "cell_type": "code",
   "execution_count": 26,
   "id": "c047cd03",
   "metadata": {},
   "outputs": [
    {
     "name": "stdout",
     "output_type": "stream",
     "text": [
      "A\n",
      "B\n",
      "C\n",
      "D\n",
      "F\n"
     ]
    }
   ],
   "source": [
    "#8. Define a function named get_letter_grade. It should accept a number and return the letter grade associated with that number (A-F).\n",
    "\n",
    "def get_letter_grade(grade_num):\n",
    "    if grade_num > 88:\n",
    "        return 'A'\n",
    "    elif grade_num > 80:\n",
    "        return 'B'\n",
    "    elif grade_num > 67:\n",
    "        return 'C'\n",
    "    elif grade_num > 60:\n",
    "        return 'D'\n",
    "    else:\n",
    "        return 'F'\n",
    "\n",
    "print(get_letter_grade(90))\n",
    "print(get_letter_grade(84))\n",
    "print(get_letter_grade(72))\n",
    "print(get_letter_grade(63))\n",
    "print(get_letter_grade(55))"
   ]
  },
  {
   "cell_type": "code",
   "execution_count": 37,
   "id": "781d7375",
   "metadata": {},
   "outputs": [
    {
     "name": "stdout",
     "output_type": "stream",
     "text": [
      "Spngbb Sqr Pnts\n",
      "t's lmst Hllwn!\n"
     ]
    }
   ],
   "source": [
    "#9. Define a function named remove_vowels that accepts a string and returns a string with all the vowels removed.\n",
    "\n",
    "def remove_vowels(my_string):   \n",
    "    for char in my_string: \n",
    "        if char in 'aeiouAEIOU':\n",
    "            my_string = my_string.replace(char, '')\n",
    "    return my_string\n",
    "\n",
    "print(remove_vowels(\"Spongebob Square Pants\"))\n",
    "print(remove_vowels(\"It's almost Halloween!\"))\n",
    "    "
   ]
  },
  {
   "cell_type": "code",
   "execution_count": 35,
   "id": "48b45418",
   "metadata": {},
   "outputs": [
    {
     "name": "stdout",
     "output_type": "stream",
     "text": [
      "Spngbb Sqr Pnts\n"
     ]
    }
   ],
   "source": [
    "def remove_vowels2 (string):\n",
    "    vowel = set(\"aeiouAEIOU\")# Creating a set of vowels\n",
    "        \n",
    "    for i in vowel: #this loop looks at each letter in the string and compares it to the vowel set. If it finds a match it enters the loop\n",
    "        string = string.replace(i, '')\n",
    "    return string\n",
    "\n",
    "print(remove_vowels2(\"Spongebob Square Pants\"))\n"
   ]
  },
  {
   "cell_type": "code",
   "execution_count": 57,
   "id": "113b0fd4",
   "metadata": {},
   "outputs": [
    {
     "name": "stdout",
     "output_type": "stream",
     "text": [
      "dragon_claws\n",
      "sponge_bob_squarepants\n"
     ]
    }
   ],
   "source": [
    "#10. Define a function named normalize_name. It should accept a string and return a valid python identifier, that is:\n",
    "    #anything that is not a valid python identifier should be removed\n",
    "    #leading and trailing whitespace should be removed\n",
    "    #everything should be lowercase\n",
    "    #spaces should be replaced with underscores\n",
    "\n",
    "def normalize_name(possible_identifier):\n",
    "    valid_python_identifier= possible_identifier.strip() #remove leading/trailing whitespace\n",
    "    \n",
    "    valid_python_identifier= valid_python_identifier.replace(' ', '_') #Exchange middle spaces for underscores\n",
    "    \n",
    "    valid_python_identifier= valid_python_identifier.lower() #enforce lowercase on all letters\n",
    "    \n",
    "    while not valid_python_identifier[0].isalpha():\n",
    "        valid_python_identifier = valid_python_identifier[1:] ##remove leading crud\n",
    "    \n",
    "    return valid_python_identifier\n",
    "        \n",
    "print(normalize_name(\"      @%%DRagon Claws            \"))\n",
    "print(normalize_name(\" $sPoNgE bOb SqUaRePaNtS \"))\n"
   ]
  },
  {
   "cell_type": "code",
   "execution_count": null,
   "id": "2d0c8d33",
   "metadata": {},
   "outputs": [],
   "source": []
  }
 ],
 "metadata": {
  "kernelspec": {
   "display_name": "Python 3",
   "language": "python",
   "name": "python3"
  },
  "language_info": {
   "codemirror_mode": {
    "name": "ipython",
    "version": 3
   },
   "file_extension": ".py",
   "mimetype": "text/x-python",
   "name": "python",
   "nbconvert_exporter": "python",
   "pygments_lexer": "ipython3",
   "version": "3.8.8"
  }
 },
 "nbformat": 4,
 "nbformat_minor": 5
}
