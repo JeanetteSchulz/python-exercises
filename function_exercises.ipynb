{
 "cells": [
  {
   "cell_type": "code",
   "execution_count": 4,
   "id": "ab28b59a",
   "metadata": {},
   "outputs": [
    {
     "name": "stdout",
     "output_type": "stream",
     "text": [
      "False\n",
      "False\n",
      "True\n",
      "True\n"
     ]
    }
   ],
   "source": [
    "#1.Define a function named is_two. It should accept one input and return True if the passed input is either the number or the string 2, False otherwise.\n",
    "\n",
    "def is_two(num):\n",
    "    return num in ['2', 2]\n",
    "\n",
    "print( is_two(3) )\n",
    "print( is_two('5') )\n",
    "print( is_two(2) )\n",
    "print( is_two('2') )"
   ]
  },
  {
   "cell_type": "code",
   "execution_count": 6,
   "id": "88bc5797",
   "metadata": {},
   "outputs": [
    {
     "name": "stdout",
     "output_type": "stream",
     "text": [
      "True\n",
      "False\n",
      "True\n",
      "False\n"
     ]
    }
   ],
   "source": [
    "#2. Define a function named is_vowel. It should return True if the passed string is a vowel, False otherwise.\n",
    "\n",
    "def is_vowel(letter):\n",
    "    return letter.lower() in 'aeiou'\n",
    "\n",
    "print( is_vowel('i') )\n",
    "print( is_vowel('c') )\n",
    "print( is_vowel('A') )\n",
    "print( is_vowel('B') )"
   ]
  },
  {
   "cell_type": "code",
   "execution_count": 7,
   "id": "ed3d1aa3",
   "metadata": {},
   "outputs": [
    {
     "name": "stdout",
     "output_type": "stream",
     "text": [
      "False\n",
      "True\n",
      "False\n",
      "True\n"
     ]
    }
   ],
   "source": [
    "#3. Define a function named is_consonant. It should return True if the passed string is a consonant, False otherwise. Use your is_vowel function to accomplish this.\n",
    "\n",
    "def is_consonant(halloween):\n",
    "    return not is_vowel(halloween)\n",
    "    \n",
    "print( is_consonant('i') )\n",
    "print( is_consonant('c') )\n",
    "print( is_consonant('A') )\n",
    "print( is_consonant('B') )"
   ]
  },
  {
   "cell_type": "code",
   "execution_count": 10,
   "id": "64e17cb8",
   "metadata": {},
   "outputs": [
    {
     "name": "stdout",
     "output_type": "stream",
     "text": [
      "Yellow\n",
      "orange\n",
      "ivy\n",
      "Purple\n"
     ]
    }
   ],
   "source": [
    "#4. Define a function that accepts a string that is a word. The function should capitalize the first letter of the word if the word starts with a consonant.\n",
    "\n",
    "def capitalize_leading_consonant(word):\n",
    "    if is_consonant(word[0]):\n",
    "        return word.capitalize() \n",
    "    else:\n",
    "        return word\n",
    "\n",
    "print( capitalize_leading_consonant('yellow') )\n",
    "print( capitalize_leading_consonant('orange') )\n",
    "print( capitalize_leading_consonant('ivy') )\n",
    "print( capitalize_leading_consonant('purple') )\n"
   ]
  },
  {
   "cell_type": "code",
   "execution_count": 15,
   "id": "1cc36972",
   "metadata": {},
   "outputs": [
    {
     "name": "stdout",
     "output_type": "stream",
     "text": [
      "$ 1.00\n",
      "$ 1.60\n"
     ]
    }
   ],
   "source": [
    "#5. Define a function named calculate_tip. It should accept a tip percentage (a number between 0 and 1) and the bill total, and return the amount to tip.\n",
    "\n",
    "def calculate_tip(tip_percentage,bill_total):\n",
    "    return bill_total * tip_percentage\n",
    "\n",
    "print('$', \"{:.2f}\".format(calculate_tip(.5,2.00)))\n",
    "print('$', \"{:.2f}\".format(calculate_tip(.2,8.00)))"
   ]
  },
  {
   "cell_type": "code",
   "execution_count": 17,
   "id": "dc6c9e38",
   "metadata": {},
   "outputs": [
    {
     "name": "stdout",
     "output_type": "stream",
     "text": [
      "$ 5.00\n",
      "$ 6.40\n"
     ]
    }
   ],
   "source": [
    "#6. Define a function named apply_discount. It should accept a original price, and a discount percentage, and return the price after the discount is applied.\n",
    "\n",
    "def apply_discount(original_price,discount_percentage):\n",
    "    return original_price - (original_price * discount_percentage)\n",
    "\n",
    "\n",
    "print('$', \"{:.2f}\".format(apply_discount(10,.50)))\n",
    "print('$', \"{:.2f}\".format(apply_discount(8,.20))) "
   ]
  },
  {
   "cell_type": "code",
   "execution_count": 21,
   "id": "1fc3a1b9",
   "metadata": {},
   "outputs": [
    {
     "name": "stdout",
     "output_type": "stream",
     "text": [
      "1000\n",
      "1000000\n",
      "1000000000\n"
     ]
    }
   ],
   "source": [
    "#7. Define a function named handle_commas. It should accept a string that is a number that contains commas in it as input, and return a number as output.\n",
    "\n",
    "def handle_commas(string_num):\n",
    "    return int(string_num.replace(\",\",\"\"))\n",
    "\n",
    "print( handle_commas('1,000') )\n",
    "print( handle_commas('1,000,000') )\n",
    "print( handle_commas('1,000,000,000') )"
   ]
  },
  {
   "cell_type": "code",
   "execution_count": 26,
   "id": "c047cd03",
   "metadata": {},
   "outputs": [
    {
     "name": "stdout",
     "output_type": "stream",
     "text": [
      "A\n",
      "B\n",
      "C\n",
      "D\n",
      "F\n"
     ]
    }
   ],
   "source": [
    "#8. Define a function named get_letter_grade. It should accept a number and return the letter grade associated with that number (A-F).\n",
    "\n",
    "def get_letter_grade(grade_num):\n",
    "    \"\"\"Accepts a number representing a students grade and returns the letter grade associated with that number\"\"\"\n",
    "    if grade_num > 88:\n",
    "        return 'A'\n",
    "    elif grade_num > 80:\n",
    "        return 'B'\n",
    "    elif grade_num > 67:\n",
    "        return 'C'\n",
    "    elif grade_num > 60:\n",
    "        return 'D'\n",
    "    else:\n",
    "        return 'F'\n",
    "\n",
    "print(get_letter_grade(90))\n",
    "print(get_letter_grade(84))\n",
    "print(get_letter_grade(72))\n",
    "print(get_letter_grade(63))\n",
    "print(get_letter_grade(55))"
   ]
  },
  {
   "cell_type": "code",
   "execution_count": 37,
   "id": "781d7375",
   "metadata": {},
   "outputs": [
    {
     "name": "stdout",
     "output_type": "stream",
     "text": [
      "Spngbb Sqr Pnts\n",
      "t's lmst Hllwn!\n"
     ]
    }
   ],
   "source": [
    "#9. Define a function named remove_vowels that accepts a string and returns a string with all the vowels removed.\n",
    "\n",
    "def remove_vowels(my_string):   \n",
    "    \"\"\"Accepts a string and returns that string with all vowels removed\"\"\"\n",
    "    for char in my_string: \n",
    "        if char in 'aeiouAEIOU':\n",
    "            my_string = my_string.replace(char, '')\n",
    "    return my_string\n",
    "\n",
    "print(remove_vowels(\"Spongebob Square Pants\"))\n",
    "print(remove_vowels(\"It's almost Halloween!\"))\n",
    "    "
   ]
  },
  {
   "cell_type": "code",
   "execution_count": 35,
   "id": "48b45418",
   "metadata": {},
   "outputs": [
    {
     "name": "stdout",
     "output_type": "stream",
     "text": [
      "Spngbb Sqr Pnts\n"
     ]
    }
   ],
   "source": [
    "def remove_vowels2 (string):\n",
    "    \"\"\"Different approach from my 101 Kaggle, Accepts a string and returns that string with all vowels removed\"\"\"\n",
    "    vowel = set(\"aeiouAEIOU\")# Creating a set of vowels\n",
    "\n",
    "    for i in vowel:  set. #takes a letter from vowel set\n",
    "        string = string.replace(i, '') #removes all char that match the current letter (i) in vowel set\n",
    "    return string\n",
    "\n",
    "print(remove_vowels2(\"Spongebob Square Pants\"))\n"
   ]
  },
  {
   "cell_type": "code",
   "execution_count": 57,
   "id": "113b0fd4",
   "metadata": {},
   "outputs": [
    {
     "name": "stdout",
     "output_type": "stream",
     "text": [
      "dragon_claws\n",
      "sponge_bob_squarepants\n"
     ]
    }
   ],
   "source": [
    "#10. Define a function named normalize_name. It should accept a string and return a valid python identifier, that is:\n",
    "    #anything that is not a valid python identifier should be removed\n",
    "    #leading and trailing whitespace should be removed\n",
    "    #everything should be lowercase\n",
    "    #spaces should be replaced with underscores\n",
    "\n",
    "def normalize_name(possible_identifier):\n",
    "    \"\"\"Accepts a string and returns an altered string that is considered a valid python identifier\"\"\"\n",
    "    \n",
    "    valid_python_identifier= possible_identifier.strip() #remove leading/trailing whitespace\n",
    "    \n",
    "    valid_python_identifier= valid_python_identifier.replace(' ', '_') #Exchange middle spaces for underscores\n",
    "    \n",
    "    valid_python_identifier= valid_python_identifier.lower() #enforce lowercase on all letters\n",
    "    \n",
    "    while not valid_python_identifier[0].isalpha():\n",
    "        valid_python_identifier = valid_python_identifier[1:] ##remove non-alphabetical leading char\n",
    "    \n",
    "    return valid_python_identifier\n",
    "        \n",
    "print(normalize_name(\"      @%%DRagon Claws            \"))\n",
    "print(normalize_name(\" $sPoNgE bOb SqUaRePaNtS \"))\n"
   ]
  },
  {
   "cell_type": "code",
   "execution_count": 12,
   "id": "2d0c8d33",
   "metadata": {},
   "outputs": [
    {
     "name": "stdout",
     "output_type": "stream",
     "text": [
      "[1, 2, 3]\n",
      "[1, 3, 6, 10]\n",
      "[2, 7, 8, 14]\n"
     ]
    }
   ],
   "source": [
    "#11. Write a function named cumulative_sum that accepts a list of numbers and returns a list that is the cumulative sum of the numbers in the list.\n",
    "\n",
    "def cumulative_sum(num_list):\n",
    "    \"\"\"Takes in a list of numbers and returns a list that is the cumulative sum of the numbers in that list.\"\"\"\n",
    "    sum_list=[num_list[0]]\n",
    "    for i in range(1,len(num_list)):\n",
    "        #print(i)\n",
    "        #print(\"math: \", sum_list[i-1] ,\"+\", num_list[i] )\n",
    "        sum_list.append(sum_list[i-1] + num_list[i])\n",
    "    return sum_list\n",
    "\n",
    "print(cumulative_sum([1, 1, 1]))\n",
    "print(cumulative_sum([1, 2, 3, 4]))\n",
    "print(cumulative_sum([2, 5, 1, 6]))"
   ]
  },
  {
   "cell_type": "code",
   "execution_count": 28,
   "id": "b019a79b",
   "metadata": {},
   "outputs": [
    {
     "name": "stdout",
     "output_type": "stream",
     "text": [
      "10:45\n",
      "22:04\n",
      "18:30\n",
      "12:30\n",
      "00:15\n"
     ]
    }
   ],
   "source": [
    "#Bonus 1.Create a function named twelveto24. It should accept a string in the format 10:45am or 4:30pm and return a string that is the representation of the time in a 24-hour format. \n",
    "\n",
    "def twelveto24 (time12_string):\n",
    "    \"\"\"Takes in a time based on the 12 hour time format, and converts it to the 24 hour time format\"\"\"\n",
    "    \n",
    "    time12_string = time12_string.lower()\n",
    "    time24_string =''\n",
    "    \n",
    "    if time12_string[-2:] == 'am':\n",
    "        if time12_string[0:2] == '12':#if midnight replace 12 with 00\n",
    "            time24_string = '00' + time12_string[2:-2] \n",
    "            return time24_string\n",
    "        \n",
    "        time24_string = time12_string[:-2] #if not midnight, remove end char and return string\n",
    "        return time24_string\n",
    "    \n",
    "    else:\n",
    "        if len(time12_string) < len('00:00pm'): #add zero in front for time < 10\n",
    "            time12_string = '0' + time12_string\n",
    "        \n",
    "        if time12_string[0:2] == '12': #if noon, remove end char and return string \n",
    "            time24_string = time12_string[:-2]\n",
    "            return time24_string\n",
    "\n",
    "        #creating time24_string from scratch, used individual lines for easy reading   \n",
    "        time24_string = str(int(time12_string[0:2]) + 12)\n",
    "        time24_string = time24_string + \":\"\n",
    "        time24_string = time24_string + time12_string[3:5] \n",
    "\n",
    "    if time24_string[0:2] == '24':\n",
    "        time24_string = '00' + time24_string[2:]\n",
    "    return time24_string\n",
    "\n",
    "print(twelveto24('10:45am'))\n",
    "print(twelveto24('10:04pm'))\n",
    "print(twelveto24('6:30pm'))\n",
    "print(twelveto24('12:30pm'))\n",
    "print(twelveto24('12:15am'))\n"
   ]
  },
  {
   "cell_type": "code",
   "execution_count": 38,
   "id": "808349a2",
   "metadata": {},
   "outputs": [
    {
     "name": "stdout",
     "output_type": "stream",
     "text": [
      "10:45am\n",
      "10:04pm\n",
      "6:30pm\n",
      "12:30pm\n",
      "12:15am\n",
      "03:15am\n"
     ]
    }
   ],
   "source": [
    "#Bonus 1. Bonus: write a function that does the opposite.\n",
    "\n",
    "def twentyfourto12(time24):\n",
    "    \"\"\"Takes in a time based on the 24 hour time format, and converts it to the 12 hour time format\"\"\"\n",
    "\n",
    "    if time24[0:2] == '00':\n",
    "        time12= '12' + time24[2:] + 'am'\n",
    "        return time12\n",
    "    elif time24[0:2] == '12':\n",
    "        time12= time24 + 'pm'\n",
    "        return time12\n",
    "    elif int(time24[0:2]) > 12: #if after noon, we have some math to do\n",
    "        time12= str(int(time24[0:2])-12) + time24[2:]+ 'pm'\n",
    "        return time12\n",
    "    else:\n",
    "        return time24 + 'am'\n",
    "\n",
    "print(twentyfourto12('10:45'))\n",
    "print(twentyfourto12('22:04'))\n",
    "print(twentyfourto12('18:30'))\n",
    "print(twentyfourto12('12:30'))\n",
    "print(twentyfourto12('00:15'))\n",
    "print(twentyfourto12('03:15'))"
   ]
  },
  {
   "cell_type": "code",
   "execution_count": null,
   "id": "25735682",
   "metadata": {},
   "outputs": [],
   "source": []
  }
 ],
 "metadata": {
  "kernelspec": {
   "display_name": "Python 3",
   "language": "python",
   "name": "python3"
  },
  "language_info": {
   "codemirror_mode": {
    "name": "ipython",
    "version": 3
   },
   "file_extension": ".py",
   "mimetype": "text/x-python",
   "name": "python",
   "nbconvert_exporter": "python",
   "pygments_lexer": "ipython3",
   "version": "3.8.8"
  }
 },
 "nbformat": 4,
 "nbformat_minor": 5
}
