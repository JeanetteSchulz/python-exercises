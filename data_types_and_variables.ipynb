{
 "cells": [
  {
   "cell_type": "markdown",
   "id": "6e2848c6",
   "metadata": {},
   "source": [
    "# Data Types and Variables Practice\n",
    "---\n",
    "You have rented some movies for your kids: The little mermaid (for 3 days), Brother Bear (for 5 days, they love it), and Hercules (1 day, you don't know yet if they're going to like it). If price for a movie per day is 3 dollars, how much will you have to pay?\n"
   ]
  },
  {
   "cell_type": "code",
   "execution_count": 2,
   "id": "cf671968",
   "metadata": {},
   "outputs": [
    {
     "name": "stdout",
     "output_type": "stream",
     "text": [
      "$27.0\n"
     ]
    }
   ],
   "source": [
    "The_Little_Mermaid = 3\n",
    "Brother_Bear = 5\n",
    "Hercules = 1\n",
    "Rent_per_Day = 3.00\n",
    "Total_Price = 0\n",
    "\n",
    "Total_Price += Rent_per_Day * The_Little_Mermaid\n",
    "Total_Price += Rent_per_Day * Brother_Bear\n",
    "Total_Price += Rent_per_Day * Hercules\n",
    "\n",
    "print('$'+ str(Total_Price))"
   ]
  },
  {
   "cell_type": "markdown",
   "id": "183840a2",
   "metadata": {},
   "source": [
    "Suppose you're working as a contractor for 3 companies: Google, Amazon and Facebook, they pay you a different rate per hour. Google pays 400 dollars per hour, Amazon 380, and Facebook 350. How much will you receive in payment for this week? You worked 10 hours for Facebook, 6 hours for Google and 4 hours for Amazon."
   ]
  },
  {
   "cell_type": "code",
   "execution_count": 5,
   "id": "17e8b922",
   "metadata": {},
   "outputs": [
    {
     "name": "stdout",
     "output_type": "stream",
     "text": [
      "$7420\n"
     ]
    }
   ],
   "source": [
    "Google = 400\n",
    "Amazon = 380\n",
    "Facebook = 350\n",
    "\n",
    "total_pay = (Google * 6) + (Facebook * 10) + (Amazon * 4)\n",
    "\n",
    "print('$'+ str(total_pay))"
   ]
  },
  {
   "cell_type": "markdown",
   "id": "d4b7b719",
   "metadata": {},
   "source": [
    "A student can be enrolled to a class only if the class is not full and the class schedule does not conflict with her current schedule."
   ]
  },
  {
   "cell_type": "code",
   "execution_count": 10,
   "id": "79f8b688",
   "metadata": {},
   "outputs": [
    {
     "name": "stdout",
     "output_type": "stream",
     "text": [
      "True\n"
     ]
    }
   ],
   "source": [
    "class_full = False\n",
    "class_schedule_conflict = False\n",
    "\n",
    "student_enrollment= not class_full and not class_schedule_conflict\n",
    "print(student_enrollment)"
   ]
  },
  {
   "cell_type": "markdown",
   "id": "5aaef2b0",
   "metadata": {},
   "source": [
    "A product offer can be applied only if people buys more than 2 items, and the offer has not expired. Premium members do not need to buy a specific amount of products."
   ]
  },
  {
   "cell_type": "code",
   "execution_count": 14,
   "id": "23d79029",
   "metadata": {},
   "outputs": [
    {
     "name": "stdout",
     "output_type": "stream",
     "text": [
      "True\n"
     ]
    }
   ],
   "source": [
    "quantity_bought = 4\n",
    "offer_expired = False\n",
    "\n",
    "offer_applicable =  quantity_bought > 2 and not offer_expired \n",
    "print(offer_applicable)"
   ]
  },
  {
   "cell_type": "markdown",
   "id": "bad78479",
   "metadata": {},
   "source": [
    "Use the following code to follow the instructions below:\n",
    "\n",
    "`username = 'codeup' \n",
    " password = 'notastrongpassword'`\n",
    "\n",
    "Create a variable that holds a boolean value for each of the following conditions:'\n",
    "\n",
    "- the password must be at least 5 characters\n",
    "- the username must be no more than 20 characters\n",
    "- the password must not be the same as the username\n",
    "- bonus neither the username or password can start or end with whitespace"
   ]
  },
  {
   "cell_type": "code",
   "execution_count": 17,
   "id": "0ec5df16",
   "metadata": {},
   "outputs": [
    {
     "name": "stdout",
     "output_type": "stream",
     "text": [
      "True\n"
     ]
    }
   ],
   "source": [
    "username = 'codeup' \n",
    "password = 'codeupboop'\n",
    "\n",
    "acceptable = (len(password) >= 5) and (len(username) <= 20) and (username != password) and (username != username.strip() or password != password.strip())\n",
    "print(acceptable)"
   ]
  },
  {
   "cell_type": "code",
   "execution_count": 25,
   "id": "ecc02162",
   "metadata": {},
   "outputs": [
    {
     "data": {
      "text/plain": [
       "True"
      ]
     },
     "execution_count": 25,
     "metadata": {},
     "output_type": "execute_result"
    }
   ],
   "source": [
    "not ( and False)"
   ]
  },
  {
   "cell_type": "code",
   "execution_count": null,
   "id": "fabe0791",
   "metadata": {},
   "outputs": [],
   "source": []
  }
 ],
 "metadata": {
  "kernelspec": {
   "display_name": "Python 3",
   "language": "python",
   "name": "python3"
  },
  "language_info": {
   "codemirror_mode": {
    "name": "ipython",
    "version": 3
   },
   "file_extension": ".py",
   "mimetype": "text/x-python",
   "name": "python",
   "nbconvert_exporter": "python",
   "pygments_lexer": "ipython3",
   "version": "3.8.8"
  }
 },
 "nbformat": 4,
 "nbformat_minor": 5
}
