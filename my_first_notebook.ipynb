{
 "cells": [
  {
   "cell_type": "code",
   "execution_count": 2,
   "id": "18acb64c",
   "metadata": {},
   "outputs": [
    {
     "name": "stdout",
     "output_type": "stream",
     "text": [
      "Larry\n"
     ]
    }
   ],
   "source": [
    "Fiancé = 'Larry'\n",
    "print(Fiancé)"
   ]
  },
  {
   "cell_type": "code",
   "execution_count": 5,
   "id": "1165d884",
   "metadata": {},
   "outputs": [
    {
     "name": "stdout",
     "output_type": "stream",
     "text": [
      "Deamon is a good kitty.\n"
     ]
    }
   ],
   "source": [
    "Deamon = 'cat'\n",
    "if Deamon == 'cat':\n",
    "    print('Deamon is a good kitty.')\n",
    "else:\n",
    "    print(\"That's not a cat!\")"
   ]
  },
  {
   "cell_type": "code",
   "execution_count": 10,
   "id": "86c6652e",
   "metadata": {},
   "outputs": [
    {
     "name": "stdout",
     "output_type": "stream",
     "text": [
      "Yes, I have three cats...\n",
      "Deamon\n",
      "Baron\n",
      "Morpheus\n"
     ]
    }
   ],
   "source": [
    "cats = ['Deamon', 'Baron','Morpheus']\n",
    "print('Yes, I have three cats...')\n",
    "for x in cats: \n",
    "    print(x)"
   ]
  },
  {
   "cell_type": "code",
   "execution_count": null,
   "id": "a1a0f87c",
   "metadata": {},
   "outputs": [],
   "source": []
  }
 ],
 "metadata": {
  "kernelspec": {
   "display_name": "Python 3",
   "language": "python",
   "name": "python3"
  },
  "language_info": {
   "codemirror_mode": {
    "name": "ipython",
    "version": 3
   },
   "file_extension": ".py",
   "mimetype": "text/x-python",
   "name": "python",
   "nbconvert_exporter": "python",
   "pygments_lexer": "ipython3",
   "version": "3.8.8"
  }
 },
 "nbformat": 4,
 "nbformat_minor": 5
}
